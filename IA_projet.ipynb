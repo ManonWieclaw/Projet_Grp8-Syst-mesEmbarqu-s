{
  "nbformat": 4,
  "nbformat_minor": 0,
  "metadata": {
    "colab": {
      "provenance": [],
      "collapsed_sections": [
        "htVpp5Uad1qn"
      ]
    },
    "kernelspec": {
      "name": "python3",
      "display_name": "Python 3"
    },
    "language_info": {
      "name": "python"
    }
  },
  "cells": [
    {
      "cell_type": "markdown",
      "source": [
        "# Deep note - Introduction à la quantization"
      ],
      "metadata": {
        "id": "Z50QYvi-J0nM"
      }
    },
    {
      "cell_type": "markdown",
      "source": [
        "Projet Intelligence Artificielle - Groupe 8 - EFREI"
      ],
      "metadata": {
        "id": "9hn1zPU2J5Ow"
      }
    },
    {
      "cell_type": "markdown",
      "source": [
        "Chloé DESRUE - Marie SAYAG - Manon WIECLAW"
      ],
      "metadata": {
        "id": "cjIboaJMJ-HU"
      }
    },
    {
      "cell_type": "code",
      "execution_count": 1,
      "metadata": {
        "id": "ievPZqsdt_nc"
      },
      "outputs": [],
      "source": [
        "from keras.datasets import mnist\n",
        "from matplotlib import pyplot\n",
        "import numpy as np\n",
        "import os"
      ]
    },
    {
      "cell_type": "code",
      "source": [
        "(train_X, train_y), (test_X, test_y) = mnist.load_data()"
      ],
      "metadata": {
        "id": "Alq_7vlBuDMw",
        "colab": {
          "base_uri": "https://localhost:8080/"
        },
        "outputId": "b22961fc-cdd8-43bb-906f-ea837d86a3fa"
      },
      "execution_count": 2,
      "outputs": [
        {
          "output_type": "stream",
          "name": "stdout",
          "text": [
            "Downloading data from https://storage.googleapis.com/tensorflow/tf-keras-datasets/mnist.npz\n",
            "11490434/11490434 [==============================] - 0s 0us/step\n"
          ]
        }
      ]
    },
    {
      "cell_type": "code",
      "source": [
        "pyplot.imshow(train_X[1], cmap=pyplot.get_cmap('gray'))\n",
        "pyplot.show()"
      ],
      "metadata": {
        "colab": {
          "base_uri": "https://localhost:8080/",
          "height": 430
        },
        "id": "NPWFh-wxyQ9c",
        "outputId": "23e554ae-a44e-424c-e4bc-60613e014708"
      },
      "execution_count": 3,
      "outputs": [
        {
          "output_type": "display_data",
          "data": {
            "text/plain": [
              "<Figure size 640x480 with 1 Axes>"
            ],
            "image/png": "[encoded data removed]"
          },
          "metadata": {}
        }
      ]
    },
    {
      "cell_type": "code",
      "source": [
        "from tensorflow.keras import Sequential\n",
        "from tensorflow.keras.layers import Dense\n",
        "from tensorflow.keras.layers import Conv2D, MaxPooling2D\n",
        "from keras.layers.core import Dense, Dropout, Activation,Flatten\n",
        "#import tensorflow_model_optimization as tfmot"
      ],
      "metadata": {
        "id": "0s-R-zxiyRE-"
      },
      "execution_count": 4,
      "outputs": []
    },
    {
      "cell_type": "code",
      "source": [
        "print(train_X.shape)"
      ],
      "metadata": {
        "colab": {
          "base_uri": "https://localhost:8080/"
        },
        "id": "x3UtFAAlzp_L",
        "outputId": "c9dbfe53-9cbd-4097-f36b-e4c632beae25"
      },
      "execution_count": 5,
      "outputs": [
        {
          "output_type": "stream",
          "name": "stdout",
          "text": [
            "(60000, 28, 28)\n"
          ]
        }
      ]
    },
    {
      "cell_type": "code",
      "source": [
        "print(test_X.shape)"
      ],
      "metadata": {
        "colab": {
          "base_uri": "https://localhost:8080/"
        },
        "id": "q-Ar3tfS0xsu",
        "outputId": "3636dfad-d81f-4b14-b3b6-ec30949ecf0d"
      },
      "execution_count": 6,
      "outputs": [
        {
          "output_type": "stream",
          "name": "stdout",
          "text": [
            "(10000, 28, 28)\n"
          ]
        }
      ]
    },
    {
      "cell_type": "code",
      "source": [
        "#import numpy as np\n",
        "#Reshape et normalisation minMaxScalling\n",
        "\n",
        "train_X = train_X.reshape(60000, 28, 28, 1)/255  #minmax scalling\n",
        "train_X.shape\n",
        "\n",
        "test_X = test_X.reshape(-1, 28, 28, 1)/255  #minmax scalling\n",
        "test_X.shape\n"
      ],
      "metadata": {
        "id": "m2C_VKMURxUJ",
        "colab": {
          "base_uri": "https://localhost:8080/"
        },
        "outputId": "4194af5f-ad31-4360-806b-50d385e7eadb"
      },
      "execution_count": 7,
      "outputs": [
        {
          "output_type": "execute_result",
          "data": {
            "text/plain": [
              "(10000, 28, 28, 1)"
            ]
          },
          "metadata": {},
          "execution_count": 7
        }
      ]
    },
    {
      "cell_type": "code",
      "source": [
        "model = Sequential()\n",
        "\n",
        "model.add(Conv2D(32, kernel_size = (3, 3), activation='relu')) #32 neurone\n",
        "model.add(Conv2D(64, (3, 3), activation='relu'))\n",
        "model.add(MaxPooling2D(pool_size=(2, 2)))\n",
        "model.add(Flatten())\n",
        "\n",
        "model.add(Dense(units = 150, activation='relu',input_shape =[28**2]))\n",
        "model.add(Dense(units=10, activation='softmax'))\n",
        "\n",
        "model.compile (loss = 'sparse_categorical_crossentropy', optimizer = \"adam\", metrics = ['accuracy']) #ou sgd pour optimizer\n",
        "\n",
        "\n"
      ],
      "metadata": {
        "id": "tGzUBcHtyRJW"
      },
      "execution_count": 8,
      "outputs": []
    },
    {
      "cell_type": "code",
      "source": [
        "model.fit(train_X, train_y, epochs=10, validation_data = [test_X, test_y])"
      ],
      "metadata": {
        "colab": {
          "base_uri": "https://localhost:8080/"
        },
        "id": "veteDw7N2Arp",
        "outputId": "62ff4b1c-26ae-4532-8270-94ef7b1382e2"
      },
      "execution_count": 9,
      "outputs": [
        {
          "output_type": "stream",
          "name": "stdout",
          "text": [
            "Epoch 1/10\n",
            "1875/1875 [==============================] - 250s 130ms/step - loss: 0.1114 - accuracy: 0.9657 - val_loss: 0.0430 - val_accuracy: 0.9849\n",
            "Epoch 2/10\n",
            "1875/1875 [==============================] - 215s 115ms/step - loss: 0.0363 - accuracy: 0.9890 - val_loss: 0.0393 - val_accuracy: 0.9859\n",
            "Epoch 3/10\n",
            "1875/1875 [==============================] - 213s 113ms/step - loss: 0.0228 - accuracy: 0.9924 - val_loss: 0.0354 - val_accuracy: 0.9885\n",
            "Epoch 4/10\n",
            "1875/1875 [==============================] - 215s 115ms/step - loss: 0.0157 - accuracy: 0.9948 - val_loss: 0.0356 - val_accuracy: 0.9896\n",
            "Epoch 5/10\n",
            "1875/1875 [==============================] - 206s 110ms/step - loss: 0.0108 - accuracy: 0.9962 - val_loss: 0.0396 - val_accuracy: 0.9888\n",
            "Epoch 6/10\n",
            "1875/1875 [==============================] - 201s 107ms/step - loss: 0.0079 - accuracy: 0.9976 - val_loss: 0.0461 - val_accuracy: 0.9890\n",
            "Epoch 7/10\n",
            "1875/1875 [==============================] - 211s 112ms/step - loss: 0.0074 - accuracy: 0.9974 - val_loss: 0.0459 - val_accuracy: 0.9887\n",
            "Epoch 8/10\n",
            "1875/1875 [==============================] - 206s 110ms/step - loss: 0.0061 - accuracy: 0.9979 - val_loss: 0.0487 - val_accuracy: 0.9899\n",
            "Epoch 9/10\n",
            "1875/1875 [==============================] - 203s 108ms/step - loss: 0.0048 - accuracy: 0.9986 - val_loss: 0.0500 - val_accuracy: 0.9893\n",
            "Epoch 10/10\n",
            "1875/1875 [==============================] - 204s 109ms/step - loss: 0.0052 - accuracy: 0.9985 - val_loss: 0.0510 - val_accuracy: 0.9896\n"
          ]
        },
        {
          "output_type": "execute_result",
          "data": {
            "text/plain": [
              "<keras.callbacks.History at 0x7f9dda9dac40>"
            ]
          },
          "metadata": {},
          "execution_count": 9
        }
      ]
    },
    {
      "cell_type": "code",
      "source": [
        "model.summary()"
      ],
      "metadata": {
        "id": "nW3CPsbk7exf",
        "colab": {
          "base_uri": "https://localhost:8080/"
        },
        "outputId": "9c2d35e5-6c55-4aef-dc92-e89aa5df2562"
      },
      "execution_count": 10,
      "outputs": [
        {
          "output_type": "stream",
          "name": "stdout",
          "text": [
            "Model: \"sequential\"\n",
            "_________________________________________________________________\n",
            " Layer (type)                Output Shape              Param #   \n",
            "=================================================================\n",
            " conv2d (Conv2D)             (None, 26, 26, 32)        320       \n",
            "                                                                 \n",
            " conv2d_1 (Conv2D)           (None, 24, 24, 64)        18496     \n",
            "                                                                 \n",
            " max_pooling2d (MaxPooling2D  (None, 12, 12, 64)       0         \n",
            " )                                                               \n",
            "                                                                 \n",
            " flatten (Flatten)           (None, 9216)              0         \n",
            "                                                                 \n",
            " dense (Dense)               (None, 150)               1382550   \n",
            "                                                                 \n",
            " dense_1 (Dense)             (None, 10)                1510      \n",
            "                                                                 \n",
            "=================================================================\n",
            "Total params: 1,402,876\n",
            "Trainable params: 1,402,876\n",
            "Non-trainable params: 0\n",
            "_________________________________________________________________\n"
          ]
        }
      ]
    },
    {
      "cell_type": "markdown",
      "source": [
        "Accuracy du modèle non quantifié : "
      ],
      "metadata": {
        "id": "Sz1AOWTEmQxG"
      }
    },
    {
      "cell_type": "code",
      "source": [
        "score = model.evaluate(test_X, test_y, verbose=0)\n",
        "\n",
        "print('Test accuracy:', score[1])"
      ],
      "metadata": {
        "colab": {
          "base_uri": "https://localhost:8080/"
        },
        "id": "fnP6_4zulw25",
        "outputId": "31bc070c-6a9e-404d-9e5b-1a8955b03c0e"
      },
      "execution_count": 11,
      "outputs": [
        {
          "output_type": "stream",
          "name": "stdout",
          "text": [
            "Test accuracy: 0.9896000027656555\n"
          ]
        }
      ]
    },
    {
      "cell_type": "code",
      "source": [
        "import joblib\n",
        "joblib.dump(model, 'classification_modele.joblib') "
      ],
      "metadata": {
        "id": "tN0GwnqgnAzL",
        "colab": {
          "base_uri": "https://localhost:8080/"
        },
        "outputId": "a3bc20f1-2e39-4a91-bc32-f38d77858d97"
      },
      "execution_count": 12,
      "outputs": [
        {
          "output_type": "execute_result",
          "data": {
            "text/plain": [
              "['classification_modele.joblib']"
            ]
          },
          "metadata": {},
          "execution_count": 12
        }
      ]
    },
    {
      "cell_type": "code",
      "source": [
        "size = os.path.getsize(\"classification_modele.joblib\")\n",
        "print (size, 'octets')"
      ],
      "metadata": {
        "colab": {
          "base_uri": "https://localhost:8080/"
        },
        "id": "rA-KuNWfZ-sO",
        "outputId": "d9bd4b5d-c0f7-4596-9643-65568b712ff8"
      },
      "execution_count": 42,
      "outputs": [
        {
          "output_type": "stream",
          "name": "stdout",
          "text": [
            "16868450 octets\n"
          ]
        }
      ]
    },
    {
      "cell_type": "markdown",
      "source": [
        "# **Quantization post training**"
      ],
      "metadata": {
        "id": "VCXTH6BEmpKG"
      }
    },
    {
      "cell_type": "code",
      "source": [
        "#import joblib\n",
        "#model = joblib.load('/content/drive/MyDrive/IA/classification_modele.joblib')\n",
        "\n",
        "import tensorflow as tf\n",
        "converter = tf.lite.TFLiteConverter.from_keras_model(model)\n",
        "tflite_model = converter.convert()\n",
        "\n",
        "#save the model\n",
        "with open('model.tflite', 'wb') as f:\n",
        "  f.write(tflite_model)"
      ],
      "metadata": {
        "colab": {
          "base_uri": "https://localhost:8080/"
        },
        "id": "g2F0P5KipsDF",
        "outputId": "544d5e2a-b777-434d-996b-490119cbebd2"
      },
      "execution_count": 13,
      "outputs": [
        {
          "output_type": "stream",
          "name": "stderr",
          "text": [
            "WARNING:absl:Found untraced functions such as _jit_compiled_convolution_op, _jit_compiled_convolution_op, _update_step_xla while saving (showing 3 of 3). These functions will not be directly callable after loading.\n"
          ]
        }
      ]
    },
    {
      "cell_type": "markdown",
      "source": [
        "Taille du fichier généré model.tflite : 5.6 Mo"
      ],
      "metadata": {
        "id": "pGKyNyBA5xFK"
      }
    },
    {
      "cell_type": "code",
      "source": [
        "converter = tf.lite.TFLiteConverter.from_keras_model(model)\n",
        "converter.optimizations = [tf.lite.Optimize.DEFAULT]\n",
        "tf_quant_model = converter.convert()\n",
        "\n",
        "#save the model\n",
        "with open('model_optimize.tflite', 'wb') as f:\n",
        "  f.write(tf_quant_model)"
      ],
      "metadata": {
        "colab": {
          "base_uri": "https://localhost:8080/"
        },
        "id": "9446gp1bsfD1",
        "outputId": "6c69c618-29e9-4e3a-80ff-1ca8120c5a73"
      },
      "execution_count": 14,
      "outputs": [
        {
          "output_type": "stream",
          "name": "stderr",
          "text": [
            "WARNING:absl:Found untraced functions such as _jit_compiled_convolution_op, _jit_compiled_convolution_op, _update_step_xla while saving (showing 3 of 3). These functions will not be directly callable after loading.\n"
          ]
        }
      ]
    },
    {
      "cell_type": "code",
      "source": [
        "size_post = os.path.getsize(\"model_optimize.tflite\")\n",
        "print (size_post, 'octet')"
      ],
      "metadata": {
        "colab": {
          "base_uri": "https://localhost:8080/"
        },
        "id": "HLtQF-C-ZCJh",
        "outputId": "06651e0b-efa9-4e88-e91e-e3fcc371fd9d"
      },
      "execution_count": 38,
      "outputs": [
        {
          "output_type": "stream",
          "name": "stdout",
          "text": [
            "1408624 octet\n"
          ]
        }
      ]
    },
    {
      "cell_type": "markdown",
      "source": [
        "La taille du fichier généré est plus petite : 1,4 Mo\n",
        "Optimize.DEFAULT utilise la quantification de plage dynamique"
      ],
      "metadata": {
        "id": "YqSvsZOJtUOM"
      }
    },
    {
      "cell_type": "markdown",
      "source": [
        "# **Quantization aware training**"
      ],
      "metadata": {
        "id": "htVpp5Uad1qn"
      }
    },
    {
      "cell_type": "code",
      "source": [
        "! pip install -q tensorflow-model-optimization\n",
        "import tensorflow_model_optimization as tfmot\n",
        "\n",
        "\n",
        "qat_model = tfmot.quantization.keras.quantize_model(model)\n"
      ],
      "metadata": {
        "colab": {
          "base_uri": "https://localhost:8080/"
        },
        "id": "hoUph57wd6A_",
        "outputId": "9f5410c8-694c-4d02-a14a-70fe57409bfd"
      },
      "execution_count": 45,
      "outputs": [
        {
          "output_type": "stream",
          "name": "stdout",
          "text": [
            "\n",
            "^C\n"
          ]
        }
      ]
    },
    {
      "cell_type": "code",
      "source": [
        "qat_model.compile (loss = 'sparse_categorical_crossentropy', optimizer = \"adam\", metrics = ['accuracy']) \n",
        "qat_model.summary()"
      ],
      "metadata": {
        "colab": {
          "base_uri": "https://localhost:8080/"
        },
        "id": "5s_QIdnEnsHE",
        "outputId": "c9915a31-13da-435d-ab58-a2b449cdfcfd"
      },
      "execution_count": 46,
      "outputs": [
        {
          "output_type": "stream",
          "name": "stdout",
          "text": [
            "Model: \"sequential\"\n",
            "_________________________________________________________________\n",
            " Layer (type)                Output Shape              Param #   \n",
            "=================================================================\n",
            " quantize_layer_1 (QuantizeL  (None, 28, 28, 1)        3         \n",
            " ayer)                                                           \n",
            "                                                                 \n",
            " quant_conv2d (QuantizeWrapp  (None, 26, 26, 32)       387       \n",
            " erV2)                                                           \n",
            "                                                                 \n",
            " quant_conv2d_1 (QuantizeWra  (None, 24, 24, 64)       18627     \n",
            " pperV2)                                                         \n",
            "                                                                 \n",
            " quant_max_pooling2d (Quanti  (None, 12, 12, 64)       1         \n",
            " zeWrapperV2)                                                    \n",
            "                                                                 \n",
            " quant_flatten (QuantizeWrap  (None, 9216)             1         \n",
            " perV2)                                                          \n",
            "                                                                 \n",
            " quant_dense (QuantizeWrappe  (None, 150)              1382555   \n",
            " rV2)                                                            \n",
            "                                                                 \n",
            " quant_dense_1 (QuantizeWrap  (None, 10)               1515      \n",
            " perV2)                                                          \n",
            "                                                                 \n",
            "=================================================================\n",
            "Total params: 1,403,089\n",
            "Trainable params: 1,402,876\n",
            "Non-trainable params: 213\n",
            "_________________________________________________________________\n"
          ]
        }
      ]
    },
    {
      "cell_type": "markdown",
      "source": [
        "Réentraîner votre modèle sur un sous ensemble des modèles sur une ou deux epochs et afficher la performance sur le train et test"
      ],
      "metadata": {
        "id": "3KrkEcnbhC5b"
      }
    },
    {
      "cell_type": "code",
      "source": [
        "train_X.max()"
      ],
      "metadata": {
        "colab": {
          "base_uri": "https://localhost:8080/"
        },
        "id": "sGBd59qYxsF2",
        "outputId": "4d400dc4-84e1-4e0b-b180-2b60c78e2d29"
      },
      "execution_count": 47,
      "outputs": [
        {
          "output_type": "execute_result",
          "data": {
            "text/plain": [
              "1.0"
            ]
          },
          "metadata": {},
          "execution_count": 47
        }
      ]
    },
    {
      "cell_type": "code",
      "source": [
        "X_train_min = train_X[0:1000]\n",
        "Y_train_min = train_y[0:1000]\n",
        "print(X_train_min.shape)\n",
        "print(train_X.shape)\n"
      ],
      "metadata": {
        "colab": {
          "base_uri": "https://localhost:8080/"
        },
        "id": "MrmWUE-ukGyw",
        "outputId": "afc98e51-208a-4024-8e2a-7366a2e94176"
      },
      "execution_count": 48,
      "outputs": [
        {
          "output_type": "stream",
          "name": "stdout",
          "text": [
            "(1000, 28, 28, 1)\n",
            "(60000, 28, 28, 1)\n"
          ]
        }
      ]
    },
    {
      "cell_type": "code",
      "source": [
        "qat_model.fit(X_train_min, Y_train_min, epochs=2, validation_data = [test_X, test_y])"
      ],
      "metadata": {
        "colab": {
          "base_uri": "https://localhost:8080/"
        },
        "id": "uIrBAjP7hANP",
        "outputId": "91765e23-fd45-4687-8252-b15609736463"
      },
      "execution_count": 50,
      "outputs": [
        {
          "output_type": "stream",
          "name": "stdout",
          "text": [
            "Epoch 1/2\n",
            "32/32 [==============================] - 14s 454ms/step - loss: 0.0028 - accuracy: 0.9980 - val_loss: 0.0434 - val_accuracy: 0.9885\n",
            "Epoch 2/2\n",
            "32/32 [==============================] - 14s 439ms/step - loss: 4.0884e-04 - accuracy: 1.0000 - val_loss: 0.0446 - val_accuracy: 0.9888\n"
          ]
        },
        {
          "output_type": "execute_result",
          "data": {
            "text/plain": [
              "<keras.callbacks.History at 0x7f9dd7fa75b0>"
            ]
          },
          "metadata": {},
          "execution_count": 50
        }
      ]
    },
    {
      "cell_type": "markdown",
      "source": [
        "## Conversion du modèle avec TFLite"
      ],
      "metadata": {
        "id": "WBq42BhoiJ8X"
      }
    },
    {
      "cell_type": "code",
      "source": [
        "converter = tf.lite.TFLiteConverter.from_keras_model(qat_model)\n",
        "converter.optimizations = [tf.lite.Optimize.DEFAULT]\n",
        "tflite_qat_model = converter.convert()\n",
        "\n",
        "#save the model\n",
        "with open('QAT.tflite', 'wb') as f:\n",
        "  f.write(tflite_qat_model)"
      ],
      "metadata": {
        "colab": {
          "base_uri": "https://localhost:8080/"
        },
        "id": "3XK0wpuniJYF",
        "outputId": "8c98508e-069f-449c-8907-b588e016b20a"
      },
      "execution_count": 51,
      "outputs": [
        {
          "output_type": "stream",
          "name": "stderr",
          "text": [
            "WARNING:absl:Found untraced functions such as _update_step_xla, conv2d_layer_call_fn, conv2d_layer_call_and_return_conditional_losses, _jit_compiled_convolution_op, conv2d_1_layer_call_fn while saving (showing 5 of 13). These functions will not be directly callable after loading.\n",
            "/usr/local/lib/python3.9/dist-packages/tensorflow/lite/python/convert.py:789: UserWarning: Statistics for quantized inputs were expected, but not specified; continuing anyway.\n",
            "  warnings.warn(\"Statistics for quantized inputs were expected, but not \"\n"
          ]
        }
      ]
    },
    {
      "cell_type": "code",
      "source": [
        "size_QAT = os.path.getsize(\"QAT.tflite\")\n",
        "print (size_QAT, 'octet')"
      ],
      "metadata": {
        "colab": {
          "base_uri": "https://localhost:8080/"
        },
        "id": "ZHEiJ-SDIo80",
        "outputId": "45fb53fd-781c-4948-b35a-3f029d0701b3"
      },
      "execution_count": 52,
      "outputs": [
        {
          "output_type": "stream",
          "name": "stdout",
          "text": [
            "1410672 octet\n"
          ]
        }
      ]
    },
    {
      "cell_type": "markdown",
      "source": [
        "Taille du modèle obtenu : 1.4 Mo"
      ],
      "metadata": {
        "id": "eHxEYfcH57fC"
      }
    },
    {
      "cell_type": "markdown",
      "source": [
        "# Comparer les performances des trois modèles (taille et accuracy)"
      ],
      "metadata": {
        "id": "BWftOH4JIiux"
      }
    },
    {
      "cell_type": "markdown",
      "source": [
        "Calcul de l'accuracy pour le post training : "
      ],
      "metadata": {
        "id": "5koIP_CkJnuP"
      }
    },
    {
      "cell_type": "code",
      "source": [
        "interpreter = tf.lite.Interpreter(\"model_optimize.tflite\")\n",
        "interpreter.allocate_tensors()\n",
        "\n",
        "input_details = interpreter.get_input_details()\n",
        "\n",
        "output_details = interpreter.get_output_details()\n",
        "\n",
        "input_details"
      ],
      "metadata": {
        "colab": {
          "base_uri": "https://localhost:8080/"
        },
        "id": "1INkMPtlAlow",
        "outputId": "2478b902-ee17-4ff2-9f25-dea8df69982a"
      },
      "execution_count": 28,
      "outputs": [
        {
          "output_type": "execute_result",
          "data": {
            "text/plain": [
              "[{'name': 'serving_default_conv2d_input:0',\n",
              "  'index': 0,\n",
              "  'shape': array([ 1, 28, 28,  1], dtype=int32),\n",
              "  'shape_signature': array([-1, 28, 28,  1], dtype=int32),\n",
              "  'dtype': numpy.float32,\n",
              "  'quantization': (0.0, 0),\n",
              "  'quantization_parameters': {'scales': array([], dtype=float32),\n",
              "   'zero_points': array([], dtype=int32),\n",
              "   'quantized_dimension': 0},\n",
              "  'sparsity_parameters': {}}]"
            ]
          },
          "metadata": {},
          "execution_count": 28
        }
      ]
    },
    {
      "cell_type": "code",
      "source": [
        "acc = 0\n",
        "\n",
        "for i in range (len(test_y)):\n",
        "  inp = test_X[i].reshape(1, 28, 28, 1).astype(\"float32\")\n",
        "  interpreter.set_tensor(input_details[0][\"index\"], inp)\n",
        "\n",
        "  interpreter.invoke()\n",
        "\n",
        "  prediction = interpreter.get_tensor(output_details[0][\"index\"])\n",
        "  classe = np.argmax(prediction) #plus grande probabilité d'appartenir à cette classe\n",
        "\n",
        "\n",
        "  if (classe == test_y[i]):\n",
        "    acc += 1\n",
        "    \n",
        "\n",
        "accuracy_post = acc / i\n",
        "\n",
        "print(accuracy_post)   "
      ],
      "metadata": {
        "id": "7CUioFBODuIk",
        "colab": {
          "base_uri": "https://localhost:8080/"
        },
        "outputId": "2eaaa1c3-f5d1-42b4-c0e3-75267b15cb5b"
      },
      "execution_count": 36,
      "outputs": [
        {
          "output_type": "stream",
          "name": "stdout",
          "text": [
            "0.9896989698969897\n"
          ]
        }
      ]
    },
    {
      "cell_type": "markdown",
      "source": [
        "Accuracy des trois modèles ainsi que leurs tailles : "
      ],
      "metadata": {
        "id": "MChUND1AYkVX"
      }
    },
    {
      "cell_type": "code",
      "source": [
        "baseline_model_accuracy = model.evaluate(\n",
        "    test_X, test_y, verbose=0)\n",
        "\n",
        "q_aware_model_accuracy = qat_model.evaluate(\n",
        "   test_X, test_y, verbose=0)\n",
        "\n",
        "print('\\nBaseline test accuracy:', baseline_model_accuracy[1], 'and size :',size ,'octets')\n",
        "\n",
        "print('\\nAware training accuracy:', q_aware_model_accuracy[1], 'and size :',size_QAT, 'octets')\n",
        "\n",
        "print('\\nPost training accuracy:', accuracy_post, 'and size :', size_post, 'octets')"
      ],
      "metadata": {
        "colab": {
          "base_uri": "https://localhost:8080/"
        },
        "id": "x07J14Itsc3w",
        "outputId": "9273742a-0606-4d76-a58e-f3b0aec8cc17"
      },
      "execution_count": 44,
      "outputs": [
        {
          "output_type": "stream",
          "name": "stdout",
          "text": [
            "\n",
            "Baseline test accuracy: 0.9896000027656555 and size : 16868450 octets\n",
            "\n",
            "Aware training accuracy: 0.9884999990463257 and size : 1410664 octets\n",
            "\n",
            "Post training accuracy: 0.9896989698969897 and size : 1408624 octets\n"
          ]
        }
      ]
    },
    {
      "cell_type": "markdown",
      "source": [
        "Convertir le modèle - tensorflow for microcontrollers"
      ],
      "metadata": {
        "id": "CyRtYRzFJsT-"
      }
    },
    {
      "cell_type": "code",
      "source": [
        "!xxd -i QAT.tflite > model_data.cc\n"
      ],
      "metadata": {
        "id": "embNWJu5X5H6"
      },
      "execution_count": 26,
      "outputs": []
    },
    {
      "cell_type": "code",
      "source": [
        "!xxd -i QAT.tflite > model_data.h"
      ],
      "metadata": {
        "id": "RwU0qqwPJA0H"
      },
      "execution_count": 27,
      "outputs": []
    }
  ]
}